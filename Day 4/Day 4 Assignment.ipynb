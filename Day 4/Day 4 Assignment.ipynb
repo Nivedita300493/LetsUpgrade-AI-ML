{
 "cells": [
  {
   "cell_type": "markdown",
   "metadata": {},
   "source": [
    " #  Possible operations on Complex numbers"
   ]
  },
  {
   "cell_type": "code",
   "execution_count": 16,
   "metadata": {},
   "outputs": [
    {
     "name": "stdout",
     "output_type": "stream",
     "text": [
      "multiplication = (-9+19j)\n",
      "addition= (5+8j)\n",
      "subtraction= (-1-2j)\n"
     ]
    }
   ],
   "source": [
    "a = 2+3j\n",
    "b = 3+5j\n",
    "c = a*b\n",
    "d = a+b\n",
    "e = a-b\n",
    "print('multiplication =', c)\n",
    "print('addition=',d)\n",
    "print('subtraction=',e)"
   ]
  },
  {
   "cell_type": "markdown",
   "metadata": {},
   "source": [
    "# Range functions() and parameter\n",
    "\n",
    "The range() function is used to generate a sequence of numbers.It is a built-in function of Python and is used when a user needs to perform an action for a specific number of times. \n"
   ]
  },
  {
   "cell_type": "code",
   "execution_count": 4,
   "metadata": {},
   "outputs": [
    {
     "name": "stdout",
     "output_type": "stream",
     "text": [
      "0\n",
      "1\n",
      "2\n",
      "3\n",
      "4\n"
     ]
    }
   ],
   "source": [
    "for i in range(5):\n",
    "    print(i)"
   ]
  },
  {
   "cell_type": "markdown",
   "metadata": {},
   "source": [
    "#  Consider two numbers. Perform their subtraction and if the result of subtraction is greater than 25, print their multiplication result else print their division result.\n"
   ]
  },
  {
   "cell_type": "code",
   "execution_count": 6,
   "metadata": {},
   "outputs": [
    {
     "name": "stdout",
     "output_type": "stream",
     "text": [
      "divison is 2.0\n"
     ]
    }
   ],
   "source": [
    "a = 10\n",
    "b = 5\n",
    "d= a*b\n",
    "e = a/b\n",
    "c = a-b\n",
    "if c> 25:\n",
    "    print (\"multiplication is\", d)\n",
    "else:\n",
    "    print(\"divison is\", e)\n"
   ]
  },
  {
   "cell_type": "markdown",
   "metadata": {},
   "source": [
    " # Consider a list of 10 elements of integer values. If the number in the list is divisible by 2, print the result as \"square of that number minus 2\".\n"
   ]
  },
  {
   "cell_type": "code",
   "execution_count": 58,
   "metadata": {},
   "outputs": [
    {
     "name": "stdout",
     "output_type": "stream",
     "text": [
      "sqaure of 2 minus 2:2\n",
      "sqaure of 4 minus 2:14\n",
      "sqaure of 6 minus 2:34\n",
      "sqaure of 8 minus 2:62\n",
      "sqaure of 10 minus 2:98\n"
     ]
    }
   ],
   "source": [
    "l= [1,2,3,4,5,6,7,8,9,10]\n",
    "for i in l:\n",
    "    if (i%2==0):\n",
    "        print(\"sqaure of\",i, \"minus 2:\".format(i) + str ((i**2)-2))"
   ]
  },
  {
   "cell_type": "markdown",
   "metadata": {},
   "source": [
    "# Consider a list of 10 elements. Print all the elements in the list which are greater than 7 when that number is divided 2."
   ]
  },
  {
   "cell_type": "code",
   "execution_count": 54,
   "metadata": {},
   "outputs": [
    {
     "data": {
      "text/plain": [
       "list"
      ]
     },
     "execution_count": 54,
     "metadata": {},
     "output_type": "execute_result"
    }
   ],
   "source": [
    "type ([1,2,3,4,5,6,7,8,9,10])"
   ]
  },
  {
   "cell_type": "code",
   "execution_count": 27,
   "metadata": {
    "scrolled": true
   },
   "outputs": [
    {
     "name": "stdout",
     "output_type": "stream",
     "text": [
      "division of 15 with 2 greater than 7\n",
      "division of 16 with 2 greater than 7\n",
      "division of 17 with 2 greater than 7\n",
      "division of 18 with 2 greater than 7\n",
      "division of 19 with 2 greater than 7\n",
      "division of 20 with 2 greater than 7\n"
     ]
    }
   ],
   "source": [
    "l =[ 10,11,12,13,14,15,16,17,18,19,20]\n",
    "for i in l:\n",
    "    if (i/2)>7:\n",
    "        print(\"division of\",i, \"with 2 greater than 7\")"
   ]
  },
  {
   "cell_type": "code",
   "execution_count": 62,
   "metadata": {},
   "outputs": [
    {
     "data": {
      "text/plain": [
       "'C:\\\\Users\\\\dell VosTro'"
      ]
     },
     "execution_count": 62,
     "metadata": {},
     "output_type": "execute_result"
    }
   ],
   "source": [
    "import os\n",
    "os.getcwd()"
   ]
  },
  {
   "cell_type": "code",
   "execution_count": null,
   "metadata": {},
   "outputs": [],
   "source": []
  }
 ],
 "metadata": {
  "kernelspec": {
   "display_name": "Python 3",
   "language": "python",
   "name": "python3"
  },
  "language_info": {
   "codemirror_mode": {
    "name": "ipython",
    "version": 3
   },
   "file_extension": ".py",
   "mimetype": "text/x-python",
   "name": "python",
   "nbconvert_exporter": "python",
   "pygments_lexer": "ipython3",
   "version": "3.7.6"
  }
 },
 "nbformat": 4,
 "nbformat_minor": 4
}
