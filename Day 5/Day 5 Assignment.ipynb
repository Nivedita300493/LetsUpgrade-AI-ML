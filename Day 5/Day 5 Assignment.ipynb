{
 "cells": [
  {
   "cell_type": "markdown",
   "metadata": {},
   "source": [
    "# The first 20 non-even prime natural numbers."
   ]
  },
  {
   "cell_type": "code",
   "execution_count": 1,
   "metadata": {},
   "outputs": [
    {
     "name": "stdout",
     "output_type": "stream",
     "text": [
      "2 3 5 7 11 13 17 19 23 29 "
     ]
    }
   ],
   "source": [
    "r=30  \n",
    "for a in range(2,r+1):  \n",
    "    k=0  \n",
    "    for i in range(2,a//2+1):  \n",
    "        if(a%i==0):  \n",
    "            k=k+1  \n",
    "    if(k<=0):  \n",
    "        print(a,end=\" \")  "
   ]
  },
  {
   "cell_type": "markdown",
   "metadata": {},
   "source": [
    "# Implement 15 functions of string."
   ]
  },
  {
   "cell_type": "code",
   "execution_count": 2,
   "metadata": {},
   "outputs": [
    {
     "name": "stdout",
     "output_type": "stream",
     "text": [
      "H\n",
      "d\n",
      "ello\n",
      "Hell\n",
      "Hello World\n",
      "hELLO wORLD\n",
      "hello world\n",
      "HELLO WORLD\n",
      "False\n",
      "False\n",
      "False\n",
      "False\n",
      "11\n"
     ]
    }
   ],
   "source": [
    "a = \"Hello World\"\n",
    "print(a[0])\n",
    "print(a[-1])\n",
    "print(a[1:5])\n",
    "print(a[:4])\n",
    "print(a[:])\n",
    "print(a.swapcase())\n",
    "print(a.lower())\n",
    "print(a.upper())\n",
    "print(a.isalpha())\n",
    "print(a.isdecimal())\n",
    "print(a.isdigit())\n",
    "print(a.isspace())\n",
    "print(len(a))"
   ]
  },
  {
   "cell_type": "markdown",
   "metadata": {},
   "source": [
    "\n",
    "\n"
   ]
  },
  {
   "cell_type": "markdown",
   "metadata": {},
   "source": [
    "# Given string is a Palindrome or Anagram or None of them"
   ]
  },
  {
   "cell_type": "code",
   "execution_count": 4,
   "metadata": {},
   "outputs": [
    {
     "name": "stdout",
     "output_type": "stream",
     "text": [
      "madam  is a palindrome\n"
     ]
    }
   ],
   "source": [
    "s1=\"madam\"\n",
    "s2=s1[::-1]\n",
    "if s1==s2:\n",
    "    print(s1,\" is a palindrome\")\n",
    "else:\n",
    "    print(s1,\" is not a palindrome\")\n",
    "    "
   ]
  },
  {
   "cell_type": "code",
   "execution_count": 5,
   "metadata": {},
   "outputs": [
    {
     "name": "stdout",
     "output_type": "stream",
     "text": [
      "aadm  is not a anagram\n"
     ]
    }
   ],
   "source": [
    "s1=\"aadm\"\n",
    "s2=s1[::-1]\n",
    "if s1==s2:\n",
    "    print(s1,\" is a anagram\")\n",
    "else:\n",
    "    print(s1,\" is not a anagram\")"
   ]
  },
  {
   "cell_type": "markdown",
   "metadata": {},
   "source": [
    "# user defined function that removes all the additional characters from the string and converts it finally to lower case using built-in lower()."
   ]
  },
  {
   "cell_type": "code",
   "execution_count": 14,
   "metadata": {},
   "outputs": [
    {
     "name": "stdout",
     "output_type": "stream",
     "text": [
      "String is:  Ms. Nivedita @AI-ML Batch student\n",
      "After removing all special characters from string\n",
      "Resultant string is:  ms. nivedita @ai-ml batch student\n",
      "After removing all special characters from string\n",
      "Resultant string is:  ms. nivedita ai-ml batch student\n",
      "After removing all special characters from string\n",
      "Resultant string is:  ms. nivedita ai-ml batch student\n",
      "After removing all special characters from string\n",
      "Resultant string is:  ms. nivedita ai-ml batch student\n",
      "After removing all special characters from string\n",
      "Resultant string is:  ms. nivedita ai-ml batch student\n",
      "After removing all special characters from string\n",
      "Resultant string is:  ms. nivedita ai-ml batch student\n",
      "After removing all special characters from string\n",
      "Resultant string is:  ms. nivedita ai-ml batch student\n",
      "After removing all special characters from string\n",
      "Resultant string is:  ms. nivedita ai-ml batch student\n",
      "After removing all special characters from string\n",
      "Resultant string is:  ms. nivedita ai-ml batch student\n",
      "After removing all special characters from string\n",
      "Resultant string is:  ms nivedita ai-ml batch student\n",
      "After removing all special characters from string\n",
      "Resultant string is: msniveditaai-mlbatchstudent\n",
      "After removing all special characters from string\n",
      "Resultant string is: msniveditaai-mlbatchstudent\n",
      "After removing all special characters from string\n",
      "Resultant string is: msniveditaaimlbatchstudent\n",
      "After removing all special characters from string\n",
      "Resultant string is: msniveditaaimlbatchstudent\n",
      "After removing all special characters from string\n",
      "Resultant string is: msniveditaaimlbatchstudent\n",
      "After removing all special characters from string\n",
      "Resultant string is: msniveditaaimlbatchstudent\n",
      "After removing all special characters from string\n",
      "Resultant string is: msniveditaaimlbatchstudent\n",
      "After removing all special characters from string\n",
      "Resultant string is: msniveditaaimlbatchstudent\n",
      "After removing all special characters from string\n",
      "Resultant string is: msniveditaaimlbatchstudent\n"
     ]
    }
   ],
   "source": [
    "def replace_char(y):\n",
    "    invalid_list = ['!','@','#','$','%','^','&','*','()', '.', ' ', ',', '-','?','_', ':',';','+','=',]\n",
    "    for i in invalid_list:\n",
    "        y = y.replace(i,'')\n",
    "        y = y.lower()\n",
    "        print('After removing all special characters from string')\n",
    "        print ('Resultant string is:',y)\n",
    "\n",
    "string_s= \" Ms. Nivedita @AI-ML Batch student\"\n",
    "print(\"String is:\", string_s)\n",
    "replace_char(string_s)"
   ]
  },
  {
   "cell_type": "code",
   "execution_count": null,
   "metadata": {},
   "outputs": [],
   "source": []
  }
 ],
 "metadata": {
  "kernelspec": {
   "display_name": "Python 3",
   "language": "python",
   "name": "python3"
  },
  "language_info": {
   "codemirror_mode": {
    "name": "ipython",
    "version": 3
   },
   "file_extension": ".py",
   "mimetype": "text/x-python",
   "name": "python",
   "nbconvert_exporter": "python",
   "pygments_lexer": "ipython3",
   "version": "3.7.6"
  }
 },
 "nbformat": 4,
 "nbformat_minor": 4
}
